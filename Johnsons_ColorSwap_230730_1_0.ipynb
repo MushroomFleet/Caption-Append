{
  "cells": [
    {
      "cell_type": "markdown",
      "metadata": {
        "id": "view-in-github",
        "colab_type": "text"
      },
      "source": [
        "<a href=\"https://colab.research.google.com/github/MushroomFleet/Caption-Append/blob/main/Johnsons_ColorSwap_230730_1_0.ipynb\" target=\"_parent\"><img src=\"https://colab.research.google.com/assets/colab-badge.svg\" alt=\"Open In Colab\"/></a>"
      ]
    },
    {
      "cell_type": "markdown",
      "metadata": {
        "id": "slgjeYgd6pWp"
      },
      "source": [
        "[![ko-fi](https://img.shields.io/badge/Support%20me%20on%20Ko--fi-F16061?logo=ko-fi&logoColor=white&style=flat)](https://ko-fi.com/driftjohnson)\n",
        "\n",
        "# **Johnsons Tools / Colab Notebooks For Augmented Productivity**"
      ]
    },
    {
      "cell_type": "markdown",
      "metadata": {
        "id": "_MxF9feWshAp"
      },
      "source": [
        "| Notebook Name | Description | Link |\n",
        "| --- | --- | --- |\n",
        "| [Caption Append](https://github.com/MushroomFleet/Caption-Append) | Caption Append | [![](https://img.shields.io/static/v1?message=Open%20in%20Colab&logo=googlecolab&labelColor=5c5c5c&color=0f80c1&label=%20&style=flat)](https://colab.research.google.com/github/MushroomFleet/Caption-Append/blob/main/Caption_Append_V1.ipynb) |\n",
        "| [Caption Concat](https://github.com/MushroomFleet/Caption-Concat) | Caption Concat | [![](https://img.shields.io/static/v1?message=Open%20in%20Colab&logo=googlecolab&labelColor=5c5c5c&color=0f80c1&label=%20&style=flat)](https://colab.research.google.com/github/MushroomFleet/Caption-Concat/blob/main/Caption_Concat_V1_2.ipynb) |\n",
        "| [Caption Stripper](https://github.com/MushroomFleet/Caption-Stripper) | Caption Stripper | [![](https://img.shields.io/static/v1?message=Open%20in%20Colab&logo=googlecolab&labelColor=5c5c5c&color=0f80c1&label=%20&style=flat)](https://colab.research.google.com/github/MushroomFleet/Caption-Stripper/blob/main/Caption_Stripper_V1.ipynb) |\n",
        "| [Caption Swap](https://github.com/MushroomFleet/Caption-Swap) | Caption Swap | [![](https://img.shields.io/static/v1?message=Open%20in%20Colab&logo=googlecolab&labelColor=5c5c5c&color=0f80c1&label=%20&style=flat)](https://colab.research.google.com/github/MushroomFleet/Caption-Swap/blob/main/Caption_Swap_V1.ipynb) |\n",
        "| [Reverse Coco](https://github.com/MushroomFleet/Reverse-Coco) | Reverse Coco | [![](https://img.shields.io/static/v1?message=Open%20in%20Colab&logo=googlecolab&labelColor=5c5c5c&color=0f80c1&label=%20&style=flat)](https://colab.research.google.com/github/MushroomFleet/Reverse-Coco/blob/main/ReverseCocoV1.ipynb) |\n",
        "| [FFXFade-o-rama](https://github.com/MushroomFleet/FFXFADE-O-RAMA) | FFX Fade o rama | [![](https://img.shields.io/static/v1?message=Open%20in%20Colab&logo=googlecolab&labelColor=5c5c5c&color=0f80c1&label=%20&style=flat)](https://colab.research.google.com/github/MushroomFleet/FFXFADE-O-RAMA/blob/main/djz_FFXFADE_O_RAMA.ipynb) |\n",
        "| [Deforum Tools](https://github.com/MushroomFleet/Deforum-Sequence-Tools) | Deforum Tools | [![](https://img.shields.io/static/v1?message=Open%20in%20Colab&logo=googlecolab&labelColor=5c5c5c&color=0f80c1&label=%20&style=flat)](https://colab.research.google.com/github/MushroomFleet/Deforum-Sequence-Tools/blob/main/Deforum_Sequence_ToolsV1.ipynb) |"
      ]
    },
    {
      "cell_type": "code",
      "source": [
        "from google.colab import drive\n",
        "drive.mount('/content/drive')"
      ],
      "metadata": {
        "colab": {
          "base_uri": "https://localhost:8080/"
        },
        "id": "rMS9lxtG-WPX",
        "outputId": "e2cc0188-960f-4d45-c8b8-e9edd64f9582"
      },
      "execution_count": null,
      "outputs": [
        {
          "output_type": "stream",
          "name": "stdout",
          "text": [
            "Drive already mounted at /content/drive; to attempt to forcibly remount, call drive.mount(\"/content/drive\", force_remount=True).\n"
          ]
        }
      ]
    },
    {
      "cell_type": "code",
      "source": [
        "import cv2\n",
        "import numpy as np\n",
        "import os"
      ],
      "metadata": {
        "id": "2-aXVigVsuMa"
      },
      "execution_count": 9,
      "outputs": []
    },
    {
      "cell_type": "code",
      "source": [
        "# @markdown JPG Path here:\n",
        "image_path = \"/content/facePass_00962_.png\"  # @param {'type' : 'string'}\n",
        "\n",
        "\n",
        "\n"
      ],
      "metadata": {
        "id": "ugKoDGG4Tk1i"
      },
      "execution_count": 14,
      "outputs": []
    },
    {
      "cell_type": "markdown",
      "source": [
        "# **Create Variants**\n"
      ],
      "metadata": {
        "id": "1gacDGM9DloJ"
      }
    },
    {
      "cell_type": "code",
      "source": [
        "\n",
        "# Load input image\n",
        "img_path = image_path\n",
        "image = cv2.imread(img_path)\n",
        "\n",
        "if image is None:\n",
        "    print(f'Error loading image from {img_path}')\n",
        "else:\n",
        "    print(f'Loaded image with shape {image.shape}')\n",
        "\n",
        "    # Convert to HSV\n",
        "    hsv = cv2.cvtColor(image, cv2.COLOR_BGR2HSV)\n",
        "\n",
        "    # Split channels\n",
        "    h, s, v = cv2.split(hsv)\n",
        "\n",
        "    # Generate variations\n",
        "    variations = []\n",
        "    num_variants = 16\n",
        "    for i in range(num_variants):\n",
        "        offset = (i * 360 / num_variants) % 360\n",
        "        hue_var = np.mod(h + offset, 360).astype(np.uint8)\n",
        "        variations.append(hue_var)\n",
        "\n",
        "    # Merge back and convert to BGR\n",
        "    outputs = []\n",
        "    for hue_var in variations:\n",
        "        output = cv2.merge([hue_var, s, v])\n",
        "        output = cv2.cvtColor(output, cv2.COLOR_HSV2BGR)\n",
        "        outputs.append(output)\n",
        "\n",
        "    # Save output variations\n",
        "    for i, output in enumerate(outputs):\n",
        "        out_path = 'output_' + str(i) + '.jpg'\n",
        "        cv2.imwrite(out_path, output)\n",
        "\n",
        "    print('Saved outputs successfully')"
      ],
      "metadata": {
        "colab": {
          "base_uri": "https://localhost:8080/"
        },
        "id": "8Z1aIQ8YR_1g",
        "outputId": "da053e0c-662a-405e-cb11-1f8c5d036eb2"
      },
      "execution_count": 15,
      "outputs": [
        {
          "output_type": "stream",
          "name": "stdout",
          "text": [
            "Loaded image with shape (1024, 1024, 3)\n",
            "Saved outputs successfully\n"
          ]
        }
      ]
    }
  ],
  "metadata": {
    "colab": {
      "gpuType": "A100",
      "provenance": [],
      "include_colab_link": true
    },
    "kernelspec": {
      "display_name": "Python 3",
      "name": "python3"
    },
    "language_info": {
      "name": "python"
    }
  },
  "nbformat": 4,
  "nbformat_minor": 0
}