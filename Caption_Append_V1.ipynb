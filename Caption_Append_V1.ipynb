{
  "cells": [
    {
      "cell_type": "markdown",
      "metadata": {
        "id": "view-in-github",
        "colab_type": "text"
      },
      "source": [
        "<a href=\"https://colab.research.google.com/github/MushroomFleet/Caption-Append/blob/main/Caption_Append_V1.ipynb\" target=\"_parent\"><img src=\"https://colab.research.google.com/assets/colab-badge.svg\" alt=\"Open In Colab\"/></a>"
      ]
    },
    {
      "cell_type": "markdown",
      "source": [
        "[![ko-fi](https://img.shields.io/badge/Support%20me%20on%20Ko--fi-F16061?logo=ko-fi&logoColor=white&style=flat)](https://ko-fi.com/driftjohnson)\n",
        "\n",
        "# **Johnsons Tools / Colab Notebooks For Augmented Productivity**"
      ],
      "metadata": {
        "id": "W6xgGydMjx0E"
      }
    },
    {
      "cell_type": "markdown",
      "source": [
        "| Notebook Name | Description | Link |\n",
        "| --- | --- | --- | \n",
        "| [Caption Append](https://github.com/MushroomFleet/Caption-Append) | Caption Append | [![](https://img.shields.io/static/v1?message=Open%20in%20Colab&logo=googlecolab&labelColor=5c5c5c&color=0f80c1&label=%20&style=flat)](https://colab.research.google.com/github/MushroomFleet/Caption-Append/blob/main/Caption_Append_V1.ipynb) |\n",
        "| [Caption Concat](https://github.com/MushroomFleet/Caption-Concat) | Caption Concat | [![](https://img.shields.io/static/v1?message=Open%20in%20Colab&logo=googlecolab&labelColor=5c5c5c&color=0f80c1&label=%20&style=flat)](https://colab.research.google.com/github/MushroomFleet/Caption-Concat/blob/main/Caption_Concat_V1_2.ipynb) |\n",
        "| [Caption Stripper](https://github.com/MushroomFleet/Caption-Stripper) | Caption Stripper | [![](https://img.shields.io/static/v1?message=Open%20in%20Colab&logo=googlecolab&labelColor=5c5c5c&color=0f80c1&label=%20&style=flat)](https://colab.research.google.com/github/MushroomFleet/Caption-Stripper/blob/main/Caption_Stripper_V1.ipynb) |\n",
        "| [Caption Swap](https://github.com/MushroomFleet/Caption-Swap) | Caption Swap | [![](https://img.shields.io/static/v1?message=Open%20in%20Colab&logo=googlecolab&labelColor=5c5c5c&color=0f80c1&label=%20&style=flat)](https://colab.research.google.com/github/MushroomFleet/Caption-Swap/blob/main/Caption_Swap_V1.ipynb) | \n",
        "| [Reverse Coco](https://github.com/MushroomFleet/Reverse-Coco) | Reverse Coco | [![](https://img.shields.io/static/v1?message=Open%20in%20Colab&logo=googlecolab&labelColor=5c5c5c&color=0f80c1&label=%20&style=flat)](https://colab.research.google.com/github/MushroomFleet/Reverse-Coco/blob/main/ReverseCocoV1.ipynb) | \n",
        "| [FFXFade-o-rama](https://github.com/MushroomFleet/FFXFADE-O-RAMA) | FFX Fade o rama | [![](https://img.shields.io/static/v1?message=Open%20in%20Colab&logo=googlecolab&labelColor=5c5c5c&color=0f80c1&label=%20&style=flat)](https://colab.research.google.com/github/MushroomFleet/FFXFADE-O-RAMA/blob/main/djz_FFXFADE_O_RAMA.ipynb) | \n",
        "| [Deforum Tools](https://github.com/MushroomFleet/Deforum-Sequence-Tools) | Deforum Tools | [![](https://img.shields.io/static/v1?message=Open%20in%20Colab&logo=googlecolab&labelColor=5c5c5c&color=0f80c1&label=%20&style=flat)](https://colab.research.google.com/github/MushroomFleet/Deforum-Sequence-Tools/blob/main/Deforum_Sequence_ToolsV1.ipynb) | "
      ],
      "metadata": {
        "id": "2q9xjdPIjvoM"
      }
    },
    {
      "cell_type": "markdown",
      "metadata": {
        "id": "1lJFS3DwxNGU"
      },
      "source": [
        "###**Google Drive Sync & setup**"
      ]
    },
    {
      "cell_type": "code",
      "source": [
        "from google.colab import drive\n",
        "drive.mount('/content/drive')"
      ],
      "metadata": {
        "colab": {
          "base_uri": "https://localhost:8080/"
        },
        "id": "jkewPHxopHL7",
        "outputId": "d20804cb-7a94-4384-fa58-efc44012272d"
      },
      "execution_count": null,
      "outputs": [
        {
          "output_type": "stream",
          "name": "stdout",
          "text": [
            "Mounted at /content/drive\n"
          ]
        }
      ]
    },
    {
      "cell_type": "markdown",
      "source": [
        "Add Path to Dataset and Run.\n",
        "\n",
        "I built this to save time adding a trigger to existing captions for training with newer methods like LORA Dreambooth, which requires the \"triggerword style\" formatting in the captions files.\n",
        "\n",
        "It will use the Foldername as the Triggerword followed by your chosen class name to the start of every Caption file. Works recursively and will iterate through as many folders as it can see below the path you set.\n",
        "\n",
        "\"Foldername Class_name Caption words\"\n",
        "\n",
        "# SETUP PATHS HERE"
      ],
      "metadata": {
        "id": "qroadFOacSiS"
      }
    },
    {
      "cell_type": "code",
      "source": [
        "import os\n",
        "\n",
        "root_dir = \"/content/drive/MyDrive/multi_datasets/test/AbstractChaos\"  # @param {type:'string'}\n",
        "class_name = \" style \" # @param {type:'string'}\n"
      ],
      "metadata": {
        "id": "GolU2UCWmzwQ",
        "cellView": "form"
      },
      "execution_count": null,
      "outputs": []
    },
    {
      "cell_type": "markdown",
      "metadata": {
        "id": "TWZCMNd95ef7"
      },
      "source": [
        "# Run Caption Append"
      ]
    },
    {
      "cell_type": "code",
      "source": [
        "def process_file(filepath):\n",
        "    with open(filepath, \"r+\") as file:\n",
        "        lines = file.readlines()\n",
        "        if len(lines) > 0:\n",
        "            file.seek(0)\n",
        "            directory_name = os.path.basename(os.path.dirname(filepath))\n",
        "            debug_text = f\"Processing file: {filepath}\\n\" \\\n",
        "                         f\"Directory name: {directory_name}\\n\" \\\n",
        "                         f\"Original first line: {lines[0].rstrip()}\\n\"\n",
        "            print(debug_text)\n",
        "            file.write(directory_name + class_name + lines[0])\n",
        "            file.writelines(lines[1:])\n",
        "\n",
        "with os.scandir(root_dir) as entries:\n",
        "    for entry in entries:\n",
        "        if entry.is_file() and entry.name.endswith(\".txt\"):\n",
        "            process_file(entry.path)\n",
        "        elif entry.is_dir():\n",
        "            for subentry in os.scandir(entry.path):\n",
        "                if subentry.is_file() and subentry.name.endswith(\".txt\"):\n",
        "                    process_file(subentry.path)"
      ],
      "metadata": {
        "colab": {
          "base_uri": "https://localhost:8080/"
        },
        "id": "71l5ZXKnbO_k",
        "outputId": "930068f6-d70a-4453-969e-b60235463369"
      },
      "execution_count": null,
      "outputs": [
        {
          "output_type": "stream",
          "name": "stdout",
          "text": [
            "Processing file: /content/drive/MyDrive/multi_datasets/test/AbstractChaos/AbstractChaos (12).txt\n",
            "Directory name: AbstractChaos\n",
            "Original first line: a painting of a city with a massive amount of smoke coming out of\n",
            "\n",
            "Processing file: /content/drive/MyDrive/multi_datasets/test/AbstractChaos/AbstractChaos (11).txt\n",
            "Directory name: AbstractChaos\n",
            "Original first line: a painting of a large structure with a long beam coming out of it\n",
            "\n",
            "Processing file: /content/drive/MyDrive/multi_datasets/test/AbstractChaos/AbstractChaos (8).txt\n",
            "Directory name: AbstractChaos\n",
            "Original first line: a painting of a black hole in the sky\n",
            "\n",
            "Processing file: /content/drive/MyDrive/multi_datasets/test/AbstractChaos/AbstractChaos (40).txt\n",
            "Directory name: AbstractChaos\n",
            "Original first line: a painting of a large amount of smoke coming out of it's\n",
            "\n",
            "Processing file: /content/drive/MyDrive/multi_datasets/test/AbstractChaos/AbstractChaos (9).txt\n",
            "Directory name: AbstractChaos\n",
            "Original first line: a painting of a space station with a lot of smoke coming out of\n",
            "\n",
            "Processing file: /content/drive/MyDrive/multi_datasets/test/AbstractChaos/AbstractChaos (7).txt\n",
            "Directory name: AbstractChaos\n",
            "Original first line: a painting of a space station with a giant black ball in the middle\n",
            "\n",
            "Processing file: /content/drive/MyDrive/multi_datasets/test/AbstractChaos/AbstractChaos (41).txt\n",
            "Directory name: AbstractChaos\n",
            "Original first line: a painting of a large structure with a massive amount of smoke coming out\n",
            "\n",
            "Processing file: /content/drive/MyDrive/multi_datasets/test/AbstractChaos/AbstractChaos (6).txt\n",
            "Directory name: AbstractChaos\n",
            "Original first line: a painting of a large structure with a long beam of light coming out\n",
            "\n",
            "Processing file: /content/drive/MyDrive/multi_datasets/test/AbstractChaos/AbstractChaos (5).txt\n",
            "Directory name: AbstractChaos\n",
            "Original first line: a painting of a strange looking structure with a sky in the background\n",
            "\n",
            "Processing file: /content/drive/MyDrive/multi_datasets/test/AbstractChaos/AbstractChaos (37).txt\n",
            "Directory name: AbstractChaos\n",
            "Original first line: a painting of a large structure with a sky in the background\n",
            "\n",
            "Processing file: /content/drive/MyDrive/multi_datasets/test/AbstractChaos/AbstractChaos (4).txt\n",
            "Directory name: AbstractChaos\n",
            "Original first line: a painting with multiple lines of artwork on it\n",
            "\n",
            "Processing file: /content/drive/MyDrive/multi_datasets/test/AbstractChaos/AbstractChaos (38).txt\n",
            "Directory name: AbstractChaos\n",
            "Original first line: a painting of a space station surrounded by clouds\n",
            "\n",
            "Processing file: /content/drive/MyDrive/multi_datasets/test/AbstractChaos/AbstractChaos (39).txt\n",
            "Directory name: AbstractChaos\n",
            "Original first line: a painting of a city in the middle of a body of water\n",
            "\n",
            "Processing file: /content/drive/MyDrive/multi_datasets/test/AbstractChaos/AbstractChaos (36).txt\n",
            "Directory name: AbstractChaos\n",
            "Original first line: a painting of a large structure with a sky in the background\n",
            "\n",
            "Processing file: /content/drive/MyDrive/multi_datasets/test/AbstractChaos/AbstractChaos (35).txt\n",
            "Directory name: AbstractChaos\n",
            "Original first line: a painting with a large amount of smoke coming out of it\n",
            "\n",
            "Processing file: /content/drive/MyDrive/multi_datasets/test/AbstractChaos/AbstractChaos (32).txt\n",
            "Directory name: AbstractChaos\n",
            "Original first line: a painting of a large structure with a sky in the background\n",
            "\n",
            "Processing file: /content/drive/MyDrive/multi_datasets/test/AbstractChaos/AbstractChaos (34).txt\n",
            "Directory name: AbstractChaos\n",
            "Original first line: a painting that looks like it has been made to look like it is\n",
            "\n",
            "Processing file: /content/drive/MyDrive/multi_datasets/test/AbstractChaos/AbstractChaos (33).txt\n",
            "Directory name: AbstractChaos\n",
            "Original first line: a painting of a strange looking structure with a sky in the background\n",
            "\n",
            "Processing file: /content/drive/MyDrive/multi_datasets/test/AbstractChaos/AbstractChaos (29).txt\n",
            "Directory name: AbstractChaos\n",
            "Original first line: a painting of a large structure in the middle of a body of water\n",
            "\n",
            "Processing file: /content/drive/MyDrive/multi_datasets/test/AbstractChaos/AbstractChaos (14).txt\n",
            "Directory name: AbstractChaos\n",
            "Original first line: a painting of a black hole in the sky\n",
            "\n",
            "Processing file: /content/drive/MyDrive/multi_datasets/test/AbstractChaos/AbstractChaos (17).txt\n",
            "Directory name: AbstractChaos\n",
            "Original first line: a painting of an alien landscape with a large black ball in the middle\n",
            "\n",
            "Processing file: /content/drive/MyDrive/multi_datasets/test/AbstractChaos/AbstractChaos (15).txt\n",
            "Directory name: AbstractChaos\n",
            "Original first line: a painting of a large structure in the middle of a body of water\n",
            "\n",
            "Processing file: /content/drive/MyDrive/multi_datasets/test/AbstractChaos/AbstractChaos (16).txt\n",
            "Directory name: AbstractChaos\n",
            "Original first line: a painting with a large amount of smoke coming out of it\n",
            "\n",
            "Processing file: /content/drive/MyDrive/multi_datasets/test/AbstractChaos/AbstractChaos (31).txt\n",
            "Directory name: AbstractChaos\n",
            "Original first line: a painting of a space station with a sky in the background\n",
            "\n",
            "Processing file: /content/drive/MyDrive/multi_datasets/test/AbstractChaos/AbstractChaos (24).txt\n",
            "Directory name: AbstractChaos\n",
            "Original first line: a painting of a giant ball in the middle of a city\n",
            "\n",
            "Processing file: /content/drive/MyDrive/multi_datasets/test/AbstractChaos/AbstractChaos (23).txt\n",
            "Directory name: AbstractChaos\n",
            "Original first line: a painting that looks like it has a lot of smoke coming out of\n",
            "\n",
            "Processing file: /content/drive/MyDrive/multi_datasets/test/AbstractChaos/AbstractChaos (30).txt\n",
            "Directory name: AbstractChaos\n",
            "Original first line: a painting of a large body of water with a sky in the background\n",
            "\n",
            "Processing file: /content/drive/MyDrive/multi_datasets/test/AbstractChaos/AbstractChaos (3).txt\n",
            "Directory name: AbstractChaos\n",
            "Original first line: a painting with a large amount of smoke coming out of it\n",
            "\n",
            "Processing file: /content/drive/MyDrive/multi_datasets/test/AbstractChaos/AbstractChaos (26).txt\n",
            "Directory name: AbstractChaos\n",
            "Original first line: a painting that looks like it has been made to look like an alien\n",
            "\n",
            "Processing file: /content/drive/MyDrive/multi_datasets/test/AbstractChaos/AbstractChaos (27).txt\n",
            "Directory name: AbstractChaos\n",
            "Original first line: a painting of a strange looking structure with a sky in the background\n",
            "\n",
            "Processing file: /content/drive/MyDrive/multi_datasets/test/AbstractChaos/AbstractChaos (28).txt\n",
            "Directory name: AbstractChaos\n",
            "Original first line: a painting of a strange looking structure with a sky in the background\n",
            "\n",
            "Processing file: /content/drive/MyDrive/multi_datasets/test/AbstractChaos/AbstractChaos (25).txt\n",
            "Directory name: AbstractChaos\n",
            "Original first line: a painting that looks like it has a lot of smoke coming out of\n",
            "\n",
            "Processing file: /content/drive/MyDrive/multi_datasets/test/AbstractChaos/AbstractChaos (21).txt\n",
            "Directory name: AbstractChaos\n",
            "Original first line: a painting of a bridge with a sky in the background\n",
            "\n",
            "Processing file: /content/drive/MyDrive/multi_datasets/test/AbstractChaos/AbstractChaos (10).txt\n",
            "Directory name: AbstractChaos\n",
            "Original first line: a painting that looks like it has been made to look like it is\n",
            "\n",
            "Processing file: /content/drive/MyDrive/multi_datasets/test/AbstractChaos/AbstractChaos (1).txt\n",
            "Directory name: AbstractChaos\n",
            "Original first line: a painting that looks like it has a lot of smoke coming out of\n",
            "\n",
            "Processing file: /content/drive/MyDrive/multi_datasets/test/AbstractChaos/AbstractChaos (22).txt\n",
            "Directory name: AbstractChaos\n",
            "Original first line: a painting of a futuristic city surrounded by clouds\n",
            "\n",
            "Processing file: /content/drive/MyDrive/multi_datasets/test/AbstractChaos/AbstractChaos (20).txt\n",
            "Directory name: AbstractChaos\n",
            "Original first line: a painting of a space station with a sky background\n",
            "\n",
            "Processing file: /content/drive/MyDrive/multi_datasets/test/AbstractChaos/AbstractChaos (2).txt\n",
            "Directory name: AbstractChaos\n",
            "Original first line: a painting that looks like something out of a sci - fi world\n",
            "\n",
            "Processing file: /content/drive/MyDrive/multi_datasets/test/AbstractChaos/AbstractChaos (19).txt\n",
            "Directory name: AbstractChaos\n",
            "Original first line: a painting of a space station in the middle of clouds\n",
            "\n",
            "Processing file: /content/drive/MyDrive/multi_datasets/test/AbstractChaos/AbstractChaos (13).txt\n",
            "Directory name: AbstractChaos\n",
            "Original first line: a painting of a strange looking structure with a sky in the background\n",
            "\n",
            "Processing file: /content/drive/MyDrive/multi_datasets/test/AbstractChaos/AbstractChaos (18).txt\n",
            "Directory name: AbstractChaos\n",
            "Original first line: a painting of a large structure in the middle of a body of water\n",
            "\n"
          ]
        }
      ]
    }
  ],
  "metadata": {
    "colab": {
      "provenance": [],
      "toc_visible": true,
      "include_colab_link": true
    },
    "gpuClass": "standard",
    "kernelspec": {
      "display_name": "Python 3",
      "name": "python3"
    },
    "language_info": {
      "name": "python"
    }
  },
  "nbformat": 4,
  "nbformat_minor": 0
}